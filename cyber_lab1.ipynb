{
  "nbformat": 4,
  "nbformat_minor": 0,
  "metadata": {
    "colab": {
      "provenance": [],
      "gpuType": "T4",
      "authorship_tag": "ABX9TyPq5gVG4G9lKCoZIVSAsNeB",
      "include_colab_link": true
    },
    "kernelspec": {
      "name": "python3",
      "display_name": "Python 3"
    },
    "language_info": {
      "name": "python"
    },
    "accelerator": "GPU"
  },
  "cells": [
    {
      "cell_type": "markdown",
      "metadata": {
        "id": "view-in-github",
        "colab_type": "text"
      },
      "source": [
        "<a href=\"https://colab.research.google.com/github/rishi12jn/Cyber-Security-Lab/blob/main/cyber_lab1.ipynb\" target=\"_parent\"><img src=\"https://colab.research.google.com/assets/colab-badge.svg\" alt=\"Open In Colab\"/></a>"
      ]
    },
    {
      "cell_type": "code",
      "execution_count": null,
      "metadata": {
        "id": "Mjttov2q3sN0"
      },
      "outputs": [],
      "source": []
    },
    {
      "cell_type": "code",
      "source": [
        "from google.colab import drive\n",
        "drive.mount('/content/drive')"
      ],
      "metadata": {
        "colab": {
          "base_uri": "https://localhost:8080/"
        },
        "id": "kSV5gxpJ3-CH",
        "outputId": "28d1d5ed-69c2-42a0-b440-a852591b65be"
      },
      "execution_count": null,
      "outputs": [
        {
          "output_type": "stream",
          "name": "stdout",
          "text": [
            "Mounted at /content/drive\n"
          ]
        }
      ]
    },
    {
      "cell_type": "code",
      "source": [
        "pip install scapy\n"
      ],
      "metadata": {
        "colab": {
          "base_uri": "https://localhost:8080/"
        },
        "id": "rZXxNcrJ4fV9",
        "outputId": "0dc1ff38-609c-4052-a787-3f7e5bbee8ff"
      },
      "execution_count": 2,
      "outputs": [
        {
          "output_type": "stream",
          "name": "stdout",
          "text": [
            "Collecting scapy\n",
            "  Downloading scapy-2.6.1-py3-none-any.whl.metadata (5.6 kB)\n",
            "Downloading scapy-2.6.1-py3-none-any.whl (2.4 MB)\n",
            "\u001b[?25l   \u001b[90m━━━━━━━━━━━━━━━━━━━━━━━━━━━━━━━━━━━━━━━━\u001b[0m \u001b[32m0.0/2.4 MB\u001b[0m \u001b[31m?\u001b[0m eta \u001b[36m-:--:--\u001b[0m\r\u001b[2K   \u001b[91m━━━━━\u001b[0m\u001b[90m╺\u001b[0m\u001b[90m━━━━━━━━━━━━━━━━━━━━━━━━━━━━━━━━━━\u001b[0m \u001b[32m0.3/2.4 MB\u001b[0m \u001b[31m9.0 MB/s\u001b[0m eta \u001b[36m0:00:01\u001b[0m\r\u001b[2K   \u001b[91m━━━━━━━━━━━━━━━━━━━━━━━━━━━━━━━━━━━━━━━\u001b[0m\u001b[91m╸\u001b[0m \u001b[32m2.4/2.4 MB\u001b[0m \u001b[31m42.0 MB/s\u001b[0m eta \u001b[36m0:00:01\u001b[0m\r\u001b[2K   \u001b[90m━━━━━━━━━━━━━━━━━━━━━━━━━━━━━━━━━━━━━━━━\u001b[0m \u001b[32m2.4/2.4 MB\u001b[0m \u001b[31m32.0 MB/s\u001b[0m eta \u001b[36m0:00:00\u001b[0m\n",
            "\u001b[?25hInstalling collected packages: scapy\n",
            "Successfully installed scapy-2.6.1\n"
          ]
        }
      ]
    },
    {
      "cell_type": "code",
      "source": [
        "from scapy.all import rdpcap, TCP, UDP, ICMP\n",
        "\n",
        "# Path to the pcap file\n",
        "pcap_file = \"/content/Sample.pcap\"  # Change this to your actual file path\n",
        "\n",
        "# Read the packets from the pcap file\n",
        "packets = rdpcap(pcap_file)\n",
        "\n",
        "# Initialize counters\n",
        "tcp_count = 0\n",
        "udp_count = 0\n",
        "icmp_count = 0\n",
        "\n",
        "# Iterate through packets and count protocol occurrences\n",
        "for packet in packets:\n",
        "    if packet.haslayer(TCP):\n",
        "        tcp_count += 1\n",
        "    elif packet.haslayer(UDP):\n",
        "        udp_count += 1\n",
        "    elif packet.haslayer(ICMP):\n",
        "        icmp_count += 1\n",
        "\n",
        "# Display the results\n",
        "print(f\"TCP Packets: {tcp_count}\")\n",
        "print(f\"UDP Packets: {udp_count}\")\n",
        "print(f\"ICMP Packets: {icmp_count}\")"
      ],
      "metadata": {
        "colab": {
          "base_uri": "https://localhost:8080/"
        },
        "id": "eg7MinTr4ud6",
        "outputId": "9a49e607-3a21-4f59-ee07-fa7ef0429c05"
      },
      "execution_count": null,
      "outputs": [
        {
          "output_type": "stream",
          "name": "stdout",
          "text": [
            "TCP Packets: 2093\n",
            "UDP Packets: 393\n",
            "ICMP Packets: 0\n"
          ]
        }
      ]
    },
    {
      "cell_type": "code",
      "source": [
        "pip install scapy"
      ],
      "metadata": {
        "colab": {
          "base_uri": "https://localhost:8080/"
        },
        "id": "p1IqgRvXGCti",
        "outputId": "b93b91a0-362c-42ae-b962-b56dc426a31e"
      },
      "execution_count": null,
      "outputs": [
        {
          "output_type": "stream",
          "name": "stdout",
          "text": [
            "Collecting scapy\n",
            "  Downloading scapy-2.6.1-py3-none-any.whl.metadata (5.6 kB)\n",
            "Downloading scapy-2.6.1-py3-none-any.whl (2.4 MB)\n",
            "\u001b[?25l   \u001b[90m━━━━━━━━━━━━━━━━━━━━━━━━━━━━━━━━━━━━━━━━\u001b[0m \u001b[32m0.0/2.4 MB\u001b[0m \u001b[31m?\u001b[0m eta \u001b[36m-:--:--\u001b[0m\r\u001b[2K   \u001b[91m━━━━━━━━━━━━━━━━━━━━━━━━━━━━━━━━━━━━━━━\u001b[0m\u001b[91m╸\u001b[0m \u001b[32m2.4/2.4 MB\u001b[0m \u001b[31m103.8 MB/s\u001b[0m eta \u001b[36m0:00:01\u001b[0m\r\u001b[2K   \u001b[90m━━━━━━━━━━━━━━━━━━━━━━━━━━━━━━━━━━━━━━━━\u001b[0m \u001b[32m2.4/2.4 MB\u001b[0m \u001b[31m44.9 MB/s\u001b[0m eta \u001b[36m0:00:00\u001b[0m\n",
            "\u001b[?25hInstalling collected packages: scapy\n",
            "Successfully installed scapy-2.6.1\n"
          ]
        }
      ]
    },
    {
      "cell_type": "code",
      "source": [
        "from collections import Counter\n",
        "from scapy.all import rdpcap, IP, TCP, ICMP\n",
        "\n",
        "# Path to the pcap file (update as needed)\n",
        "pcap_file_path = \"/content/Sample.pcap\"\n",
        "\n",
        "# Read packets from the pcap file\n",
        "packets = rdpcap(pcap_file_path)\n",
        "\n",
        "# Initialize data structures for analysis\n",
        "ip_counter = Counter()\n",
        "syn_flood_attempts = Counter()\n",
        "icmp_requests = Counter()\n",
        "brute_force_attempts = Counter()\n",
        "\n",
        "# Analyze packets\n",
        "for packet in packets:\n",
        "    if packet.haslayer(IP):\n",
        "        ip_src = packet[IP].src  # Extract source IP\n",
        "\n",
        "        # Count occurrences of each IP (detect excessive requests)\n",
        "        ip_counter[ip_src] += 1\n",
        "\n",
        "        # Detect TCP SYN flood attempts (repeated SYNs from the same source)\n",
        "        if packet.haslayer(TCP) and packet[TCP].flags == \"S\":\n",
        "            syn_flood_attempts[ip_src] += 1\n",
        "\n",
        "        # Detect ICMP flood (excessive ICMP requests)\n",
        "        if packet.haslayer(ICMP):\n",
        "            icmp_requests[ip_src] += 1\n",
        "\n",
        "        # Detect Brute-force with negative acknowledgment (e.g., SYN-ACK followed by RST)\n",
        "        if packet.haslayer(TCP):\n",
        "            flags = packet[TCP].flags\n",
        "            # Check if a SYN-ACK packet (successful handshake initiation) is followed by RST (reset connection)\n",
        "            if flags == \"SA\":  # SYN-ACK - handshake initiation\n",
        "                brute_force_attempts[ip_src] += 1\n",
        "            elif flags == \"R\":  # RST - connection reset (indicating failure)\n",
        "                brute_force_attempts[ip_src] += 1\n",
        "\n",
        "# Identify potential brute-force attack (IPs making excessive requests or negative ack patterns)\n",
        "brute_force_ips = [ip for ip, count in brute_force_attempts.items() if count > 100]\n",
        "\n",
        "# Identify possible SYN flood attack sources\n",
        "syn_flood_ips = [ip for ip, count in syn_flood_attempts.items() if count > 50]\n",
        "\n",
        "# Identify ICMP flood attack sources\n",
        "icmp_flood_ips = [ip for ip, count in icmp_requests.items() if count > 50]\n",
        "\n",
        "# Display results\n",
        "print(\"Potential Brute-Force Attack Sources (Negative Acknowledgments):\", brute_force_ips)\n",
        "print(\"Potential SYN Flood Attack Sources:\", syn_flood_ips)\n",
        "print(\"Potential ICMP Flood Attack Sources:\", icmp_flood_ips)\n"
      ],
      "metadata": {
        "colab": {
          "base_uri": "https://localhost:8080/"
        },
        "id": "GvcWK1_X44JK",
        "outputId": "adf98ff4-7ee4-4738-9d9e-b08bc7b6269d"
      },
      "execution_count": null,
      "outputs": [
        {
          "output_type": "stream",
          "name": "stdout",
          "text": [
            "Potential Brute-Force Attack Sources (Negative Acknowledgments): []\n",
            "Potential SYN Flood Attack Sources: []\n",
            "Potential ICMP Flood Attack Sources: []\n"
          ]
        }
      ]
    },
    {
      "cell_type": "code",
      "source": [
        "from scapy.all import rdpcap, DNSQR\n",
        "from collections import Counter\n",
        "\n",
        "# Path to the pcap file (update this to your actual file path)\n",
        "pcap_file_path = \"/content/Sample.pcap\"\n",
        "\n",
        "# Read packets from the pcap file\n",
        "packets = rdpcap(pcap_file_path)\n",
        "\n",
        "# Extract DNS query names\n",
        "dns_queries = []\n",
        "\n",
        "for packet in packets:\n",
        "    if packet.haslayer(DNSQR):  # Check if packet contains a DNS query\n",
        "        dns_queries.append(packet[DNSQR].qname.decode())  # Extract domain name\n",
        "\n",
        "# Count the most frequently queried domains\n",
        "dns_counts = Counter(dns_queries)\n",
        "\n",
        "# Display the top queried domains\n",
        "print(\"Most Frequently Queried Domains:\")\n",
        "for domain, count in dns_counts.most_common(10):  # Show top 10\n",
        "    print(f\"{domain}: {count} times\")"
      ],
      "metadata": {
        "colab": {
          "base_uri": "https://localhost:8080/"
        },
        "id": "-6fp8c9X5FwN",
        "outputId": "40ca3842-a724-447e-d2ac-d50f9eb3ae24"
      },
      "execution_count": 3,
      "outputs": [
        {
          "output_type": "stream",
          "name": "stdout",
          "text": [
            "Most Frequently Queried Domains:\n",
            "wpad.localdomain.: 68 times\n",
            "wpad.: 44 times\n",
            "isatap.localdomain.: 42 times\n",
            "teredo.ipv6.microsoft.com.: 12 times\n",
            "Smithers-PC.: 11 times\n",
            "google.com.: 6 times\n",
            "www.google.com.: 4 times\n",
            "kh2714ldb.com.: 4 times\n",
            "gmail.com.: 4 times\n",
            "dns.msftncsi.com.: 2 times\n"
          ]
        }
      ]
    }
  ]
}